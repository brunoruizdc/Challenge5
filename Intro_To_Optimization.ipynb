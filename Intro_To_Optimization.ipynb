{
 "cells": [
  {
   "cell_type": "markdown",
   "id": "e94c1246",
   "metadata": {
    "id": "e94c1246"
   },
   "source": [
    "<img src=\"https://i.imgur.com/6U6q5jQ.png\"/>\n",
    "\n",
    "_____\n",
    "<a id='home'></a>\n",
    "\n",
    "<a target=\"_blank\" href=\"https://colab.research.google.com/github/SocialAnalytics-StrategicIntelligence/introOptimization/blob/main/Intro_To_Optimization.ipynb\">\n",
    "  <img src=\"https://colab.research.google.com/assets/colab-badge.svg\" alt=\"Open In Colab\"/>\n",
    "</a>\n",
    "\n",
    "\n",
    "# Introduction to Optimization for Decision Making\n"
   ]
  },
  {
   "cell_type": "code",
   "execution_count": 7,
   "id": "4e38af10",
   "metadata": {
    "id": "4e38af10",
    "scrolled": true
   },
   "outputs": [
    {
     "data": {
      "text/html": [
       "<iframe src=\"https://docs.google.com/presentation/d/e/2PACX-1vQHq0p2eTmxRWJjDmo1mUmdarYgIrEew4ieiVbIGQy-D_CyBw5rbbRUlRxwLKKaVQpRV9Hs8MGnz0X2/embed?start=false&loop=false&delayms=3000\" frameborder=\"0\" width=\"960\" height=\"569\" allowfullscreen=\"true\" mozallowfullscreen=\"true\" webkitallowfullscreen=\"true\"></iframe>\n"
      ],
      "text/plain": [
       "<IPython.core.display.HTML object>"
      ]
     },
     "metadata": {},
     "output_type": "display_data"
    }
   ],
   "source": [
    "%%html\n",
    "<iframe src=\"https://docs.google.com/presentation/d/e/2PACX-1vQHq0p2eTmxRWJjDmo1mUmdarYgIrEew4ieiVbIGQy-D_CyBw5rbbRUlRxwLKKaVQpRV9Hs8MGnz0X2/embed?start=false&loop=false&delayms=3000\" frameborder=\"0\" width=\"960\" height=\"569\" allowfullscreen=\"true\" mozallowfullscreen=\"true\" webkitallowfullscreen=\"true\"></iframe>"
   ]
  },
  {
   "cell_type": "markdown",
   "id": "869a5ade-2e6f-4ccd-8fd6-b4f276cff22f",
   "metadata": {
    "id": "869a5ade-2e6f-4ccd-8fd6-b4f276cff22f"
   },
   "source": [
    "# Part 1: Maximization/Minimization"
   ]
  },
  {
   "cell_type": "markdown",
   "id": "1f02e23b",
   "metadata": {
    "id": "1f02e23b"
   },
   "source": [
    "Please, go to your _environment_ in Anacoda Navigator to install **glpk** and **pulp**  before runing the codes below.\n",
    "Then, call the library:"
   ]
  },
  {
   "cell_type": "code",
   "execution_count": 1,
   "id": "2d2e3d99-7100-4941-aad8-57b178798e94",
   "metadata": {
    "id": "2d2e3d99-7100-4941-aad8-57b178798e94"
   },
   "outputs": [
    {
     "name": "stdout",
     "output_type": "stream",
     "text": [
      "Requirement already satisfied: pulp in c:\\users\\ruizd\\anaconda3\\envs\\asies\\lib\\site-packages (2.9.0)\n"
     ]
    }
   ],
   "source": [
    "! pip install pulp"
   ]
  },
  {
   "cell_type": "code",
   "execution_count": 8,
   "id": "a105dc9b-d105-49d3-8093-96d03eca9530",
   "metadata": {
    "id": "a105dc9b-d105-49d3-8093-96d03eca9530"
   },
   "outputs": [],
   "source": [
    "import pulp as pp"
   ]
  },
  {
   "cell_type": "code",
   "execution_count": 3,
   "id": "26b391b6-d032-4c59-ab83-45b2c61d054a",
   "metadata": {},
   "outputs": [],
   "source": [
    "# PROBLEMA 1: DIETA Y MINIMIZACIÓN:"
   ]
  },
  {
   "cell_type": "code",
   "execution_count": 28,
   "id": "e5cddfb3-d44b-4cf6-9bb0-3a0e6b5b2f3d",
   "metadata": {},
   "outputs": [],
   "source": [
    "model = pp.LpProblem(name='diet-problem', # just the name\n",
    "                     sense=pp.LpMinimize) # type of problem"
   ]
  },
  {
   "cell_type": "code",
   "execution_count": 29,
   "id": "0bb49b30-354b-4082-a211-f39e23c1e194",
   "metadata": {},
   "outputs": [],
   "source": [
    "# Declare the VARIABLES: The diet model consists of these variables:"
   ]
  },
  {
   "cell_type": "code",
   "execution_count": 30,
   "id": "8675be74-7d64-4060-9751-f9cfbfa137f9",
   "metadata": {},
   "outputs": [],
   "source": [
    "VegaVita = pp.LpVariable(name=\"VegaVita\", \n",
    "                         lowBound=0, \n",
    "                         cat='Continuous')"
   ]
  },
  {
   "cell_type": "code",
   "execution_count": 31,
   "id": "4e5204e8-ff9d-4ff4-a756-8102077cac64",
   "metadata": {},
   "outputs": [],
   "source": [
    "HappyHealth = pp.LpVariable(name=\"HappyHealth\", \n",
    "                            lowBound=0, \n",
    "                            cat='Continuous')"
   ]
  },
  {
   "cell_type": "code",
   "execution_count": 32,
   "id": "225bf690-99d8-4bc7-9766-90972b2eb529",
   "metadata": {},
   "outputs": [],
   "source": [
    "# Create function to OPTIMIZE: The function is just the linear combination of the variables and their _given coefficients__:"
   ]
  },
  {
   "cell_type": "code",
   "execution_count": 33,
   "id": "135e3613-2506-44b7-93c2-bed3ff20f66d",
   "metadata": {},
   "outputs": [],
   "source": [
    "VegaVitaCoeff = 0.2\n",
    "HappyHealthCoeff = 0.3\n",
    "obj_func = VegaVitaCoeff * VegaVita + HappyHealthCoeff * HappyHealth"
   ]
  },
  {
   "cell_type": "code",
   "execution_count": 34,
   "id": "3b2b1dad-6f03-480f-a1f8-68cab2065f62",
   "metadata": {},
   "outputs": [],
   "source": [
    "# Represent the constraints: These are the rules the model (set of variables) must obey:"
   ]
  },
  {
   "cell_type": "code",
   "execution_count": 35,
   "id": "6e2c230d-b365-4b15-bd7c-4e6b350a9ccf",
   "metadata": {},
   "outputs": [],
   "source": [
    "# SUBJECT TO:\n",
    "C1 = pp.LpConstraint(name='VitaminC Constraint',\n",
    "                     e=20 * VegaVita + 30 * HappyHealth,\n",
    "                     rhs=60,\n",
    "                     sense=pp.LpConstraintGE)\n",
    "\n",
    "C2 = pp.LpConstraint(name='Calcium Constraint',\n",
    "                     e=500 * VegaVita + 250 * HappyHealth,\n",
    "                     rhs=1000,\n",
    "                     sense=pp.LpConstraintGE)\n",
    "\n",
    "C3 = pp.LpConstraint(name='Iron Constraint',\n",
    "                     e=9 * VegaVita + 2 * HappyHealth,\n",
    "                     rhs=18,\n",
    "                     sense=pp.LpConstraintGE)\n",
    "\n",
    "C4 = pp.LpConstraint(name='Niacin Constraint',\n",
    "                     e=2 * VegaVita + 10 * HappyHealth,\n",
    "                     rhs=20,\n",
    "                     sense=pp.LpConstraintGE)\n",
    "\n",
    "C5 = pp.LpConstraint(name='Magnesium Constraint',\n",
    "                     e=60 * VegaVita + 90 * HappyHealth,\n",
    "                     rhs=360,\n",
    "                     sense=pp.LpConstraintGE)"
   ]
  },
  {
   "cell_type": "code",
   "execution_count": 36,
   "id": "6932139a-125f-428b-9bb3-a759a6ed4d16",
   "metadata": {},
   "outputs": [],
   "source": [
    "# Build MODEL: Here you add (i) the objective function, and (ii) all the constraints:"
   ]
  },
  {
   "cell_type": "code",
   "execution_count": 37,
   "id": "a5b632bc-173a-4450-b459-77047cadbe20",
   "metadata": {},
   "outputs": [],
   "source": [
    "model += obj_func\n",
    "model += C1\n",
    "model += C2\n",
    "model += C3\n",
    "model += C4\n",
    "model += C5"
   ]
  },
  {
   "cell_type": "code",
   "execution_count": 38,
   "id": "fb99b757-cfe7-435a-8294-41058445ba6a",
   "metadata": {},
   "outputs": [],
   "source": [
    "# Solve the MODEL: Notice we are not using the default solver, we are explicitly usig COIN_CMD:"
   ]
  },
  {
   "cell_type": "code",
   "execution_count": 40,
   "id": "fd64c90f-2d29-4cf7-9751-8d0cc6dbca75",
   "metadata": {},
   "outputs": [
    {
     "name": "stdout",
     "output_type": "stream",
     "text": [
      "Available Solvers: ['GLPK_CMD', 'PYGLPK', 'CPLEX_CMD', 'CPLEX_PY', 'GUROBI', 'GUROBI_CMD', 'MOSEK', 'XPRESS', 'XPRESS', 'XPRESS_PY', 'PULP_CBC_CMD', 'COIN_CMD', 'COINMP_DLL', 'CHOCO_CMD', 'MIPCL_CMD', 'SCIP_CMD', 'FSCIP_CMD', 'SCIP_PY', 'HiGHS', 'HiGHS_CMD', 'COPT', 'COPT_DLL', 'COPT_CMD']\n"
     ]
    }
   ],
   "source": [
    "solver_list = pp.listSolvers()\n",
    "print(\"Available Solvers:\", solver_list)"
   ]
  },
  {
   "cell_type": "code",
   "execution_count": 42,
   "id": "91b00b1d-be21-46a8-8063-0ab8daf8d397",
   "metadata": {},
   "outputs": [
    {
     "data": {
      "text/plain": [
       "1"
      ]
     },
     "execution_count": 42,
     "metadata": {},
     "output_type": "execute_result"
    }
   ],
   "source": [
    "#solverToUse = pp.COIN_CMD(msg=False)\n",
    "model.solve();\n",
    "solverToUse = pp.PULP_CBC_CMD(msg=False)\n",
    "model.solve(solverToUse)"
   ]
  },
  {
   "cell_type": "code",
   "execution_count": null,
   "id": "021406ea-d5bd-4ef8-8068-f641196dc465",
   "metadata": {},
   "outputs": [],
   "source": [
    "# Summarize:"
   ]
  },
  {
   "cell_type": "code",
   "execution_count": 43,
   "id": "4f8c666a-67e2-4c03-b6be-2244ef5eee10",
   "metadata": {},
   "outputs": [
    {
     "data": {
      "text/plain": [
       "{'Model Status': 'Optimal',\n",
       " 'Optimal Solution': 1.2,\n",
       " 'HappyHealth': 3.1304348,\n",
       " 'VegaVita': 1.3043478}"
      ]
     },
     "execution_count": 43,
     "metadata": {},
     "output_type": "execute_result"
    }
   ],
   "source": [
    "import pandas as pd\n",
    "\n",
    "Results={\"Model Status\":pp.LpStatus[model.status]}\n",
    "Results.update({\"Optimal Solution\":pp.value(model.objective)})\n",
    "Results.update({v.name: v.varValue for v in model.variables()})\n",
    "Results"
   ]
  },
  {
   "cell_type": "code",
   "execution_count": 44,
   "id": "e9f1b6ee-8f83-4dee-8a75-5804983f7e9f",
   "metadata": {},
   "outputs": [
    {
     "data": {
      "text/html": [
       "<style type=\"text/css\">\n",
       "</style>\n",
       "<table id=\"T_0ed09\">\n",
       "  <thead>\n",
       "    <tr>\n",
       "      <th class=\"blank level0\" >&nbsp;</th>\n",
       "      <th id=\"T_0ed09_level0_col0\" class=\"col_heading level0 col0\" >Optimal Solution</th>\n",
       "      <th id=\"T_0ed09_level0_col1\" class=\"col_heading level0 col1\" >HappyHealth</th>\n",
       "      <th id=\"T_0ed09_level0_col2\" class=\"col_heading level0 col2\" >VegaVita</th>\n",
       "    </tr>\n",
       "    <tr>\n",
       "      <th class=\"index_name level0\" >Model Status</th>\n",
       "      <th class=\"blank col0\" >&nbsp;</th>\n",
       "      <th class=\"blank col1\" >&nbsp;</th>\n",
       "      <th class=\"blank col2\" >&nbsp;</th>\n",
       "    </tr>\n",
       "  </thead>\n",
       "  <tbody>\n",
       "    <tr>\n",
       "      <th id=\"T_0ed09_level0_row0\" class=\"row_heading level0 row0\" >Optimal</th>\n",
       "      <td id=\"T_0ed09_row0_col0\" class=\"data row0 col0\" >1.2</td>\n",
       "      <td id=\"T_0ed09_row0_col1\" class=\"data row0 col1\" >3.1304348</td>\n",
       "      <td id=\"T_0ed09_row0_col2\" class=\"data row0 col2\" >1.3043478</td>\n",
       "    </tr>\n",
       "  </tbody>\n",
       "</table>\n"
      ],
      "text/plain": [
       "<pandas.io.formats.style.Styler at 0x1bd33b0c2c0>"
      ]
     },
     "execution_count": 44,
     "metadata": {},
     "output_type": "execute_result"
    }
   ],
   "source": [
    "pd.DataFrame.from_dict(Results,orient='index').T.set_index('Model Status').style.format('{:,}')"
   ]
  },
  {
   "cell_type": "code",
   "execution_count": 45,
   "id": "1bc3a319-652e-4e5e-9453-a1b812cb6a16",
   "metadata": {},
   "outputs": [],
   "source": [
    "# En ese sentido, la mejor solución para minimizar los costos diarios para la compra de suplementos vitamínicos será comprar 3.1 tabletas de HappyHealth al día y 1.3 tabletas de VegaVita"
   ]
  },
  {
   "cell_type": "code",
   "execution_count": null,
   "id": "59804d38-5475-4687-b2b4-9ca3b20c08f6",
   "metadata": {},
   "outputs": [],
   "source": []
  }
 ],
 "metadata": {
  "colab": {
   "provenance": [],
   "toc_visible": true
  },
  "kernelspec": {
   "display_name": "Python 3 (ipykernel)",
   "language": "python",
   "name": "python3"
  },
  "language_info": {
   "codemirror_mode": {
    "name": "ipython",
    "version": 3
   },
   "file_extension": ".py",
   "mimetype": "text/x-python",
   "name": "python",
   "nbconvert_exporter": "python",
   "pygments_lexer": "ipython3",
   "version": "3.12.5"
  }
 },
 "nbformat": 4,
 "nbformat_minor": 5
}
